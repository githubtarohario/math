{
 "cells": [
  {
   "cell_type": "code",
   "execution_count": null,
   "metadata": {},
   "outputs": [],
   "source": [
    "#numpy数学2021-01-04"
   ]
  },
  {
   "cell_type": "code",
   "execution_count": null,
   "metadata": {},
   "outputs": [],
   "source": [
    "import numpy as np\n",
    "d=np.array([1,2,3,4,5,6,7]);\n",
    "print(d[1:5])\n",
    "print(d[0:5:2])\n",
    "print(d[::-1])\n"
   ]
  },
  {
   "cell_type": "code",
   "execution_count": null,
   "metadata": {},
   "outputs": [],
   "source": [
    "a=np.array([[1,2,3],[4,5,6]])\n",
    "print(a.T)\n",
    "print(a.shape)\n"
   ]
  },
  {
   "cell_type": "code",
   "execution_count": null,
   "metadata": {
    "scrolled": true
   },
   "outputs": [],
   "source": [
    "a=np.arange(10)\n",
    "print(\"a=\",a)\n",
    "print(\"a[1:5]=\",a[1:5])\n",
    "print(\"a[2:8:2]=\",a[2:8:2])\n",
    "print(\"a[::-1]=\",a[::-1])\n",
    "print(\"a[:3]=\",a[:3])\n",
    "print(\"a[4:]=\",a[4:])\n",
    "print(\"a[:3]=\",a[:3])\n",
    "print(\"a[3:]=\",a[3:])\n",
    "print(\"a[::2]=\",a[::2])\n",
    "print(\"a[:]=\",a[:])"
   ]
  },
  {
   "cell_type": "code",
   "execution_count": null,
   "metadata": {},
   "outputs": [],
   "source": [
    "b=np.repeat(3,20);\n",
    "b=b.reshape(4,5)\n",
    "\n",
    "print(\"b[1:3,2:4]=\",b[1:3,2:4])\n",
    "print(\"b[:2,1:]=\",b[:2,1:])\n",
    "print(\"b[::2,:]=\",b[::2,:])\n",
    "print(\"b[:,::2]=\",b[:,::2])\n",
    "print(\"b[:,::-1]=\",b[:,::-1])\n"
   ]
  },
  {
   "cell_type": "code",
   "execution_count": null,
   "metadata": {
    "scrolled": true
   },
   "outputs": [],
   "source": [
    "c=np.zeros((3,4,5))\n",
    "print(c)\n",
    "c[:,1:2,3:]=1\n",
    "print(c)"
   ]
  },
  {
   "cell_type": "code",
   "execution_count": null,
   "metadata": {},
   "outputs": [],
   "source": [
    "\n",
    "\"\"\"\n",
    "4step\n",
    "１枚で７０％の花粉を除去できるフィルターがある。99.99%より多くの花粉を一度に除去できるのはフィルター\n",
    "が何枚必要か？1-0.7=0.3 30%除去できない\n",
    "解答\n",
    "(0.3)^n<1-0.9999=0.0001\n",
    "log(3/10)^n<1/10000\n",
    "n(log3-log10)<log1/(10^4)\n",
    "n(0.47-1)<0-4\n",
    "0.53n>4\n",
    "n>0.75・・\n",
    "∴n=8\n",
    "\n",
    "\"\"\"\n",
    "\n",
    "f=0.03\n",
    "k=1-0.9999\n",
    "for i in range(1,10):\n",
    "    f1=np.power(0.3,i)\n",
    "    if k>f1:\n",
    "        print(\"i=\",i)\n",
    "        break;\n"
   ]
  },
  {
   "cell_type": "code",
   "execution_count": null,
   "metadata": {},
   "outputs": [],
   "source": [
    "principal=100000#元本といて計算\n",
    "interest=0.073  #7.3%\n",
    "for year in range(0,100):#100年        \n",
    "    principal=principal * ( 1.0 + interest ) \n",
    "print(principal)\n"
   ]
  },
  {
   "cell_type": "code",
   "execution_count": null,
   "metadata": {},
   "outputs": [],
   "source": [
    "import numpy as np\n",
    "\n",
    "def calc(interest):\n",
    "    principal=1\n",
    "    for year in range(0,101):#100年        \n",
    "        principal=principal * ( 1.0 + interest )\n",
    "    return round(principal)\n",
    "for i in range(0,20):\n",
    "    i2=0.07+i*0.001\n",
    "    print(\"rate=\",i2,\"  re=\",calc(i2))\n"
   ]
  },
  {
   "cell_type": "code",
   "execution_count": null,
   "metadata": {},
   "outputs": [],
   "source": [
    "from sympy import *\n",
    "x = Symbol('x')\n",
    "y = Symbol('y')\n",
    "expr = (x + y)**2\n",
    "expand(expr)\n"
   ]
  },
  {
   "cell_type": "code",
   "execution_count": null,
   "metadata": {},
   "outputs": [],
   "source": [
    "#連立方程式\n",
    "x, y = symbols('x y ')\n",
    "eq1=x + y-4\n",
    "eq2=2*x+3*y-6\n",
    "solve([eq1,eq2], [x,y])\n"
   ]
  },
  {
   "cell_type": "code",
   "execution_count": null,
   "metadata": {},
   "outputs": [],
   "source": [
    "#代入\n",
    "f = x**2 + 3*x + 2\n",
    "f1 = f.subs([(x, 1)])\n",
    "print(f1)\n"
   ]
  },
  {
   "cell_type": "code",
   "execution_count": null,
   "metadata": {},
   "outputs": [],
   "source": [
    "#微分\n",
    "x,y = symbols('x y')\n",
    "f = x**2 + 2/x+sin(x)\n",
    "diff(f,x)\n"
   ]
  },
  {
   "cell_type": "code",
   "execution_count": null,
   "metadata": {},
   "outputs": [],
   "source": [
    "s=np.std([10,10,10,10])\n",
    "print(s)\n",
    "s=np.var([10,10,10,10])\n",
    "print(s)\n",
    "jscore = [5, 73, 29, 63, 68, 28, 45, 78, 70, 93]\n",
    "print(np.std(jscore))"
   ]
  },
  {
   "cell_type": "code",
   "execution_count": null,
   "metadata": {},
   "outputs": [],
   "source": [
    "#標準偏差を定義で求める\n",
    "jscore = [5, 73, 29, 63, 68, 28, 45, 78, 70, 93]\n",
    "n=len(jscore)\n",
    "javg=np.average(jscore)\n",
    "j2=jscore-javg\n",
    "j3=np.dot(j2,j2)\n",
    "print(np.sqrt(j3/n))\n",
    "\n",
    "\n"
   ]
  },
  {
   "cell_type": "code",
   "execution_count": null,
   "metadata": {},
   "outputs": [],
   "source": [
    "j = [5, 73, 29, 63, 68, 28, 45, 78, 70, 93]\n",
    "javg=np.average(j)\n",
    "j2=j-javg\n",
    "j3=np.dot(j2,j2)\n",
    "bunbo1=np.sqrt(j3)\n",
    "math = [11, 82, 25, 61, 66, 27, 42, 88, 71, 84]\n",
    "mavg=np.average(math)\n",
    "m2=math-mavg\n",
    "m3=np.dot(m2,m2)\n",
    "bunbo2=np.sqrt(m3)\n",
    "bunshi=np.dot(j2,m2)\n",
    "co=bunshi/bunbo1/bunbo2\n",
    "print(co)\n",
    "#0.9757510579114412\n",
    "import numpy\n",
    "japanese = [5, 73, 29, 63, 68, 28, 45, 78, 70, 93]\n",
    "math = [11, 82, 25, 61, 66, 27, 42, 88, 71, 84]\n",
    "correlation = numpy.corrcoef(japanese, math)\n",
    "print(correlation[0,1])\n",
    "#print(correlation[0,0])\n",
    "\n"
   ]
  },
  {
   "cell_type": "code",
   "execution_count": null,
   "metadata": {},
   "outputs": [],
   "source": [
    "#sin cosのグラフ\n",
    "import numpy as np\n",
    "import matplotlib.pyplot as plt\n",
    "\n",
    "x=np.linspace(-np.pi,np.pi)\n",
    "plt.grid()\n",
    "y1=np.sin(x)\n",
    "y2=np.cos(x)\n",
    "plt.plot(x,y1)\n",
    "plt.plot(x,y2)\n"
   ]
  },
  {
   "cell_type": "code",
   "execution_count": null,
   "metadata": {},
   "outputs": [],
   "source": [
    "#偏差値の課題\n",
    "import numpy as np\n",
    "\"\"\"\n",
    "90-100　　    →95点が８人\n",
    "80-89,　　    →85点が19人\n",
    "70-79,        →75点が17人\n",
    "60-69,        →65点が23人\n",
    "50-59,        →55点が16人\n",
    "40-49,        →45点が18人\n",
    "30-39,        →35点が17人\n",
    "0-29           →15点が19人\n",
    "\n",
    "\"\"\"\n",
    "t9=np.repeat(95,8)\n",
    "t8=np.repeat(85,19)\n",
    "t7=np.repeat(75,17)\n",
    "t6=np.repeat(65,23)\n",
    "t5=np.repeat(55,16)\n",
    "t4=np.repeat(45,18)\n",
    "t3=np.repeat(35,17)\n",
    "t2=np.repeat(15,19)\n",
    "w=[]\n",
    "w.extend(t9)\n",
    "w.extend(t8)\n",
    "w.extend(t7)\n",
    "w.extend(t6)\n",
    "w.extend(t5)\n",
    "w.extend(t4)\n",
    "w.extend(t3)\n",
    "w.extend(t2)\n",
    "#print(w)\n",
    "std=np.std(w)\n",
    "avg=np.average(w)\n",
    "h=(x-29)/std*10+50\n",
    "print(\"偏差値=\",h)\n"
   ]
  },
  {
   "cell_type": "code",
   "execution_count": null,
   "metadata": {},
   "outputs": [],
   "source": [
    "import matplotlib.pyplot as plt\n",
    "const_neipia=2.71828182845904523536\n",
    "def neipia(x,n):\n",
    "    y=1+1/x\n",
    "    y1=np.power(y, n)\n",
    "    return y1\n",
    "w=[]    \n",
    "   \n",
    "for x in range(1,10000):\n",
    "    y=neipia(x,x)\n",
    "    error=const_neipia-y\n",
    "    #print(x,'*****',y,\"error=\",error)\n",
    "    w.append(y)\n",
    "plt.ylim(2.69,2.72)\n",
    "plt.plot(w)"
   ]
  },
  {
   "cell_type": "code",
   "execution_count": null,
   "metadata": {},
   "outputs": [],
   "source": [
    "import numpy as np\n",
    "import matplotlib.pyplot as plt\n",
    "plt.grid()\n",
    "x = np.linspace(-10,10,100)\n",
    "y = 0.1*(x**2)\n",
    "\n",
    "\n",
    "plt.plot(x,y,'blue')\n",
    "plt.fill_between(x,y,color='blue',alpha=0.1)\n",
    "plt.show()\n"
   ]
  },
  {
   "cell_type": "code",
   "execution_count": null,
   "metadata": {},
   "outputs": [],
   "source": [
    "import numpy as np\n",
    "import matplotlib.pyplot as plt\n",
    "\n",
    "x = np.linspace(-10,10,100)\n",
    "y = -0.1*(x**2)+10\n",
    "y2 = 0.05*(x**2)+1\n",
    "plt.plot(x,y,'blue')\n",
    "plt.plot(x,y2,'red')\n",
    "plt.fill_between(x,y,y2,where = y>y2,color='blue',alpha=0.1)\n",
    "plt.show()\n"
   ]
  },
  {
   "cell_type": "code",
   "execution_count": null,
   "metadata": {
    "scrolled": false
   },
   "outputs": [],
   "source": [
    "import numpy as np\n",
    "import matplotlib.pyplot as plt\n",
    "# 3D描画を行うために必要なライブラリ\n",
    "from mpl_toolkits.mplot3d import Axes3D\n",
    "\n",
    "t = np.linspace(-4, 4)\n",
    "X, Y = np.meshgrid(t, t)\n",
    "Z=2*X+3*Y+4\n",
    "\n",
    "fig = plt.figure(figsize=(12,12))\n",
    "# サブプロットaxを作成してください\n",
    "ax  = fig.add_subplot(1, 1, 1, projection=\"3d\" )\n",
    "# プロットして表示します\n",
    "#ax.plot_surface(X, Y, Z)\n",
    "ax.plot_wireframe(X, Y, Z,linewidth=0.6)\n",
    "plt.show()\n"
   ]
  },
  {
   "cell_type": "code",
   "execution_count": null,
   "metadata": {},
   "outputs": [],
   "source": [
    "a = np.array([[1, 2], [3,4]])\n",
    "b = np.array([[5, 6], [7,8]])\n",
    "c=np.dot(a,b)\n",
    "c"
   ]
  },
  {
   "cell_type": "code",
   "execution_count": null,
   "metadata": {
    "scrolled": true
   },
   "outputs": [],
   "source": [
    "a=np.array([[1,1],[2,1]])\n",
    "np.linalg.inv(a)\n",
    "inv=np.linalg.inv(a)\n",
    "print(\"inv=(逆行列)\",inv)\n",
    "b=np.array([[5],[8]])\n",
    "ans=np.dot(inv,b)\n",
    "print(\"連立の解=\",ans)"
   ]
  },
  {
   "cell_type": "code",
   "execution_count": null,
   "metadata": {},
   "outputs": [],
   "source": [
    "a=np.array([[5,-4,6],[7,-6,10],[4,9,7]])\n",
    "#np.linalg.inv(a)\n",
    "inv=np.linalg.inv(a)\n",
    "b=np.array([[8],[14],[74]])\n",
    "ans=np.dot(inv,b)\n",
    "print(\"連立方程式=\",ans)"
   ]
  },
  {
   "cell_type": "code",
   "execution_count": null,
   "metadata": {},
   "outputs": [],
   "source": [
    "#問題\n",
    "import numpy as np\n",
    "#1\n",
    "a=[2,3]\n",
    "b=[4,5]\n",
    "print(np.dot(a,b))\n",
    "#2\n",
    "a=np.array([[1,2],[3,4]])\n",
    "b=np.array([[5,6],[7,8]])\n",
    "c=np.dot(a,b)\n",
    "print(c)\n",
    "#3\n",
    "a=np.array([[1,2,3],[3,4,5],[7,8,9]])\n",
    "b=np.array([[1],[2],[3]])\n",
    "c=np.dot(a,b)\n",
    "print(c)\n",
    "#4\n",
    "a=np.array([[1,1,1],[2,3,-2],[3,-1,1]])\n",
    "b=np.array([[9],[5],[7]])\n",
    "#5\n",
    "a_=np.linalg.inv(a)\n",
    "ans=np.dot(a_,b)\n",
    "print(ans)\n",
    "\n",
    "\n",
    "\n",
    "\n",
    "\n",
    "\n"
   ]
  },
  {
   "cell_type": "code",
   "execution_count": 3,
   "metadata": {},
   "outputs": [
    {
     "name": "stdout",
     "output_type": "stream",
     "text": [
      "12413915592536072670862289047373375038521486354677760000000000\n"
     ]
    }
   ],
   "source": [
    "#AKB\n",
    "sum=1\n",
    "for i in range(1,49):\n",
    "    #print(i)\n",
    "    sum=sum*i\n",
    "print(sum)    \n",
    "    "
   ]
  },
  {
   "cell_type": "code",
   "execution_count": null,
   "metadata": {},
   "outputs": [],
   "source": []
  }
 ],
 "metadata": {
  "kernelspec": {
   "display_name": "Python 3",
   "language": "python",
   "name": "python3"
  },
  "language_info": {
   "codemirror_mode": {
    "name": "ipython",
    "version": 3
   },
   "file_extension": ".py",
   "mimetype": "text/x-python",
   "name": "python",
   "nbconvert_exporter": "python",
   "pygments_lexer": "ipython3",
   "version": "3.7.6"
  }
 },
 "nbformat": 4,
 "nbformat_minor": 4
}
